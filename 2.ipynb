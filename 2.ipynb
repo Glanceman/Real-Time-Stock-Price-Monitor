{
 "cells": [
  {
   "cell_type": "code",
   "execution_count": 1,
   "metadata": {},
   "outputs": [],
   "source": [
    "import numpy as np\n",
    "import pandas as pd\n",
    "import plotly.express as px\n",
    "from plotly.subplots import make_subplots\n",
    "import plotly.graph_objects as go\n",
    "\n",
    "\n",
    "df = np.loadtxt('data/Train_Dst_NoAuction_DecPre_CF_7.txt')"
   ]
  },
  {
   "cell_type": "code",
   "execution_count": 4,
   "metadata": {},
   "outputs": [
    {
     "name": "stdout",
     "output_type": "stream",
     "text": [
      "(149, 254750)\n"
     ]
    },
    {
     "data": {
      "text/plain": [
       "array([[0.2615 , 0.2615 , 0.2614 , ..., 0.3531 , 0.3531 , 0.3532 ],\n",
       "       [0.00353, 0.00211, 0.00122, ..., 0.00775, 0.00775, 0.002  ],\n",
       "       [0.2606 , 0.2606 , 0.2606 , ..., 0.3527 , 0.3527 , 0.3527 ],\n",
       "       ...,\n",
       "       [0.00682, 0.00682, 0.00682, ..., 0.00518, 0.00518, 0.00518],\n",
       "       [0.2619 , 0.262  , 0.2617 , ..., 0.3535 , 0.3533 , 0.3535 ],\n",
       "       [0.00164, 0.00138, 0.00361, ..., 0.0111 , 0.00806, 0.0036 ]])"
      ]
     },
     "execution_count": 4,
     "metadata": {},
     "output_type": "execute_result"
    }
   ],
   "source": [
    "print(df.shape)\n",
    "df[:10]"
   ]
  }
 ],
 "metadata": {
  "kernelspec": {
   "display_name": "trade",
   "language": "python",
   "name": "python3"
  },
  "language_info": {
   "codemirror_mode": {
    "name": "ipython",
    "version": 3
   },
   "file_extension": ".py",
   "mimetype": "text/x-python",
   "name": "python",
   "nbconvert_exporter": "python",
   "pygments_lexer": "ipython3",
   "version": "3.12.7"
  }
 },
 "nbformat": 4,
 "nbformat_minor": 2
}
